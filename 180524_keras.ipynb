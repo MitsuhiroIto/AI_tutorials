{
 "cells": [
  {
   "cell_type": "markdown",
   "metadata": {},
   "source": [
    "# Keras"
   ]
  },
  {
   "cell_type": "markdown",
   "metadata": {},
   "source": [
    "tensorflowのラッパーであるkerasを用いてMNISTの問題を解いてみよう  \n",
    "[公式ホームページ](https://keras.io/ja/)  \n",
    "tensorflowを比べるとかなり簡単  \n",
    "ほとんどの場合、kerasを使えば十分  "
   ]
  },
  {
   "cell_type": "markdown",
   "metadata": {},
   "source": [
    "---"
   ]
  },
  {
   "cell_type": "code",
   "execution_count": 1,
   "metadata": {
    "collapsed": false
   },
   "outputs": [
    {
     "name": "stderr",
     "output_type": "stream",
     "text": [
      "Using TensorFlow backend.\n"
     ]
    }
   ],
   "source": [
    "from keras.models import Sequential\n",
    "from keras.layers import Dense"
   ]
  },
  {
   "cell_type": "code",
   "execution_count": 2,
   "metadata": {
    "collapsed": true
   },
   "outputs": [],
   "source": [
    "def load_mnist_1D(categorical=True):\n",
    "    \n",
    "    #28 * 28の2次元データを784の１次元データに直している\n",
    "    #　普通はconvlutionを使って2次元データのまま処理するのであまり気にしなくて良い\n",
    "    from keras.datasets import mnist\n",
    "    (X_train, y_train), (X_test, y_test) = mnist.load_data()\n",
    "    X_train = X_train.reshape(-1,784)\n",
    "    X_train = X_train.astype('float32')/255.\n",
    "    X_test = X_test.reshape(-1,784)\n",
    "    X_test = X_test.astype('float32')/255.\n",
    "    \n",
    "    #また、　ラベルをone-hotに直してる　\n",
    "    if categorical == True:\n",
    "        from keras.utils import np_utils\n",
    "        y_train = np_utils.to_categorical(y_train, 10)\n",
    "        y_test = np_utils.to_categorical(y_test, 10)\n",
    "\n",
    "    return (X_train, y_train), (X_test, y_test)"
   ]
  },
  {
   "cell_type": "code",
   "execution_count": 3,
   "metadata": {
    "collapsed": true
   },
   "outputs": [],
   "source": [
    "(x_train, y_train), (x_test, y_test) = load_mnist_1D()"
   ]
  },
  {
   "cell_type": "code",
   "execution_count": 4,
   "metadata": {
    "collapsed": false
   },
   "outputs": [
    {
     "name": "stdout",
     "output_type": "stream",
     "text": [
      "Train on 60000 samples, validate on 10000 samples\n",
      "Epoch 1/5\n",
      "60000/60000 [==============================] - 8s 139us/step - loss: 0.1980 - acc: 0.9406 - val_loss: 0.1000 - val_acc: 0.9704\n",
      "Epoch 2/5\n",
      "60000/60000 [==============================] - 8s 129us/step - loss: 0.0828 - acc: 0.9740 - val_loss: 0.0815 - val_acc: 0.9746\n",
      "Epoch 3/5\n",
      "60000/60000 [==============================] - 7s 125us/step - loss: 0.0589 - acc: 0.9812 - val_loss: 0.0726 - val_acc: 0.9779\n",
      "Epoch 4/5\n",
      "60000/60000 [==============================] - 8s 127us/step - loss: 0.0420 - acc: 0.9865 - val_loss: 0.0794 - val_acc: 0.9764\n",
      "Epoch 5/5\n",
      "60000/60000 [==============================] - 8s 135us/step - loss: 0.0356 - acc: 0.9885 - val_loss: 0.0748 - val_acc: 0.9782\n"
     ]
    }
   ],
   "source": [
    "model = Sequential()\n",
    "model.add(Dense(256, input_shape=(784,), activation='relu'))\n",
    "model.add(Dense(256, activation='relu'))\n",
    "model.add(Dense(10, activation='softmax'))\n",
    "model.compile(optimizer = 'adam',\n",
    "              loss = 'categorical_crossentropy',\n",
    "              metrics=['accuracy'])\n",
    "\n",
    "hist = model.fit(x_train, y_train, epochs=5, batch_size=32,\n",
    "                 verbose=1, validation_data=(x_test, y_test))"
   ]
  },
  {
   "cell_type": "code",
   "execution_count": null,
   "metadata": {
    "collapsed": true
   },
   "outputs": [],
   "source": []
  }
 ],
 "metadata": {
  "anaconda-cloud": {},
  "kernelspec": {
   "display_name": "Python [conda env:python3.5]",
   "language": "python",
   "name": "conda-env-python3.5-py"
  },
  "language_info": {
   "codemirror_mode": {
    "name": "ipython",
    "version": 3
   },
   "file_extension": ".py",
   "mimetype": "text/x-python",
   "name": "python",
   "nbconvert_exporter": "python",
   "pygments_lexer": "ipython3",
   "version": "3.5.4"
  }
 },
 "nbformat": 4,
 "nbformat_minor": 0
}
