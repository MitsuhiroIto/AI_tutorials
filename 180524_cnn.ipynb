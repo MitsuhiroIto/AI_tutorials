{
 "cells": [
  {
   "cell_type": "markdown",
   "metadata": {},
   "source": [
    "# Convolutional Neural Network"
   ]
  },
  {
   "cell_type": "markdown",
   "metadata": {},
   "source": [
    "kerasを使う [公式ホームページ](https://keras.io/ja/layers/convolutional/)\n",
    "\n",
    "CNNを使ってMNISTの問題を解いてみよう"
   ]
  },
  {
   "cell_type": "markdown",
   "metadata": {},
   "source": [
    "---"
   ]
  },
  {
   "cell_type": "code",
   "execution_count": 1,
   "metadata": {
    "collapsed": false
   },
   "outputs": [
    {
     "name": "stderr",
     "output_type": "stream",
     "text": [
      "Using TensorFlow backend.\n"
     ]
    }
   ],
   "source": [
    "from keras.models import Sequential\n",
    "from keras.layers import Dense, Dropout, Flatten\n",
    "from keras.layers import Conv2D, MaxPooling2D"
   ]
  },
  {
   "cell_type": "code",
   "execution_count": 2,
   "metadata": {
    "collapsed": false
   },
   "outputs": [
    {
     "name": "stdout",
     "output_type": "stream",
     "text": [
      "utils.py\r\n"
     ]
    }
   ],
   "source": [
    "#よく使う処理については別ファイル(utils.py)にまとめておく\n",
    "! ls | grep utils\n",
    "from utils import save_model_viz, save_weights, save_hist, plot_hist\n",
    "from utils import load_mnist_3D"
   ]
  },
  {
   "cell_type": "code",
   "execution_count": 3,
   "metadata": {
    "collapsed": false
   },
   "outputs": [],
   "source": [
    "RUN_ID = \"CNN\""
   ]
  },
  {
   "cell_type": "code",
   "execution_count": 4,
   "metadata": {
    "collapsed": true
   },
   "outputs": [],
   "source": [
    "(x_train, y_train), (x_test, y_test) = load_mnist_3D()"
   ]
  },
  {
   "cell_type": "code",
   "execution_count": 5,
   "metadata": {
    "collapsed": false
   },
   "outputs": [
    {
     "name": "stdout",
     "output_type": "stream",
     "text": [
      "_________________________________________________________________\n",
      "Layer (type)                 Output Shape              Param #   \n",
      "=================================================================\n",
      "conv2d_1 (Conv2D)            (None, 26, 26, 64)        640       \n",
      "_________________________________________________________________\n",
      "conv2d_2 (Conv2D)            (None, 24, 24, 64)        36928     \n",
      "_________________________________________________________________\n",
      "max_pooling2d_1 (MaxPooling2 (None, 12, 12, 64)        0         \n",
      "_________________________________________________________________\n",
      "dropout_1 (Dropout)          (None, 12, 12, 64)        0         \n",
      "_________________________________________________________________\n",
      "flatten_1 (Flatten)          (None, 9216)              0         \n",
      "_________________________________________________________________\n",
      "dense_1 (Dense)              (None, 128)               1179776   \n",
      "_________________________________________________________________\n",
      "dropout_2 (Dropout)          (None, 128)               0         \n",
      "_________________________________________________________________\n",
      "dense_2 (Dense)              (None, 10)                1290      \n",
      "=================================================================\n",
      "Total params: 1,218,634\n",
      "Trainable params: 1,218,634\n",
      "Non-trainable params: 0\n",
      "_________________________________________________________________\n",
      "Train on 60000 samples, validate on 10000 samples\n",
      "Epoch 1/10\n",
      "60000/60000 [==============================] - 280s 5ms/step - loss: 0.2410 - acc: 0.9255 - val_loss: 0.0490 - val_acc: 0.9836\n",
      "Epoch 2/10\n",
      "60000/60000 [==============================] - 273s 5ms/step - loss: 0.0861 - acc: 0.9744 - val_loss: 0.0417 - val_acc: 0.9865\n",
      "Epoch 3/10\n",
      "60000/60000 [==============================] - 269s 4ms/step - loss: 0.0628 - acc: 0.9807 - val_loss: 0.0358 - val_acc: 0.9883\n",
      "Epoch 4/10\n",
      "60000/60000 [==============================] - 268s 4ms/step - loss: 0.0530 - acc: 0.9837 - val_loss: 0.0293 - val_acc: 0.9906\n",
      "Epoch 5/10\n",
      "60000/60000 [==============================] - 279s 5ms/step - loss: 0.0442 - acc: 0.9867 - val_loss: 0.0268 - val_acc: 0.9913\n",
      "Epoch 6/10\n",
      "60000/60000 [==============================] - 283s 5ms/step - loss: 0.0385 - acc: 0.9881 - val_loss: 0.0253 - val_acc: 0.9914\n",
      "Epoch 7/10\n",
      "60000/60000 [==============================] - 275s 5ms/step - loss: 0.0341 - acc: 0.9895 - val_loss: 0.0259 - val_acc: 0.9919\n",
      "Epoch 8/10\n",
      "60000/60000 [==============================] - 255s 4ms/step - loss: 0.0312 - acc: 0.9901 - val_loss: 0.0262 - val_acc: 0.9922\n",
      "Epoch 9/10\n",
      "60000/60000 [==============================] - 282s 5ms/step - loss: 0.0279 - acc: 0.9910 - val_loss: 0.0273 - val_acc: 0.9922\n",
      "Epoch 10/10\n",
      "60000/60000 [==============================] - 279s 5ms/step - loss: 0.0262 - acc: 0.9915 - val_loss: 0.0264 - val_acc: 0.9919\n"
     ]
    }
   ],
   "source": [
    "#多分30分くらいかかる\n",
    "model = Sequential()\n",
    "model.add(Conv2D(64, (3, 3), activation='relu',input_shape=(28,28,1)))\n",
    "#64個の(3,3)のフィルター、入力が28*28の二次元データ＋チャネル数1#\n",
    "model.add(Conv2D(64, (3, 3), activation='relu'))\n",
    "model.add(MaxPooling2D((2, 2)))\n",
    "model.add(Dropout(0.25))\n",
    "model.add(Flatten())#データを一次元に\n",
    "model.add(Dense(128, activation='relu'))#128個のユニットで全結合\n",
    "model.add(Dropout(0.5))\n",
    "model.add(Dense(10, activation='softmax'))\n",
    "model.compile(optimizer = 'adam',\n",
    "              loss = 'categorical_crossentropy',\n",
    "              metrics=['accuracy'])\n",
    "\n",
    "model.summary()# modelの概要が表示される\n",
    "save_model_viz(RUN_ID, model)\n",
    "hist = model.fit(x_train, y_train, epochs=10, batch_size=128,\n",
    "                 verbose=1, validation_data=(x_test, y_test))"
   ]
  },
  {
   "cell_type": "code",
   "execution_count": 7,
   "metadata": {
    "collapsed": false
   },
   "outputs": [
    {
     "name": "stdout",
     "output_type": "stream",
     "text": [
      "CNN.yaml      CNN_vis.png   CNN_weight.h5\n",
      "CNN_acc.png     CNN_history.csv CNN_loss.png\n"
     ]
    },
    {
     "data": {
      "image/png": "[encoded data removed]",
      "text/plain": [
       "<matplotlib.figure.Figure at 0x115a22a20>"
      ]
     },
     "metadata": {},
     "output_type": "display_data"
    },
    {
     "data": {
      "image/png": "[encoded data removed]",
      "text/plain": [
       "<matplotlib.figure.Figure at 0x127f55710>"
      ]
     },
     "metadata": {},
     "output_type": "display_data"
    }
   ],
   "source": [
    "# modelフォルダやlogフォルダに重みデータや学習履歴が保存される\n",
    "save_weights(RUN_ID, model) \n",
    "save_hist(RUN_ID, hist)\n",
    "plot_hist(RUN_ID)\n",
    "! ls model/\n",
    "! ls log/"
   ]
  },
  {
   "cell_type": "code",
   "execution_count": null,
   "metadata": {
    "collapsed": true
   },
   "outputs": [],
   "source": []
  }
 ],
 "metadata": {
  "kernelspec": {
   "display_name": "Python [conda env:python3.5]",
   "language": "python",
   "name": "conda-env-python3.5-py"
  },
  "language_info": {
   "codemirror_mode": {
    "name": "ipython",
    "version": 3
   },
   "file_extension": ".py",
   "mimetype": "text/x-python",
   "name": "python",
   "nbconvert_exporter": "python",
   "pygments_lexer": "ipython3",
   "version": "3.5.4"
  }
 },
 "nbformat": 4,
 "nbformat_minor": 0
}
