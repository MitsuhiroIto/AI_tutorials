{
 "cells": [
  {
   "cell_type": "markdown",
   "metadata": {},
   "source": [
    "# LSTMを実装してみよう\n",
    "\n",
    "自分で書いてみよう！  \n",
    "目標　LSTMを利用して夏目漱石っぽい文章を書いてみよう  \n",
    "下記の記事を参考に\n",
    "\n",
    "* [MXnetのRNNの公式チュートリアル](http://mxnet.io/tutorials/r/charRnnModel.html)\n",
    "* [TJOさんの記事](http://tjo.hatenablog.com/entry/2016/11/08/190000)\n",
    "* [aidiaryさんの記事](http://qiita.com/elm200/items/6f84d3a42eebe6c47caa)"
   ]
  },
  {
   "cell_type": "code",
   "execution_count": null,
   "metadata": {
    "collapsed": true
   },
   "outputs": [],
   "source": []
  }
 ],
 "metadata": {
  "anaconda-cloud": {},
  "kernelspec": {
   "display_name": "Python [conda env:python3.5]",
   "language": "python",
   "name": "conda-env-python3.5-py"
  },
  "language_info": {
   "codemirror_mode": {
    "name": "ipython",
    "version": 3
   },
   "file_extension": ".py",
   "mimetype": "text/x-python",
   "name": "python",
   "nbconvert_exporter": "python",
   "pygments_lexer": "ipython3",
   "version": "3.5.4"
  }
 },
 "nbformat": 4,
 "nbformat_minor": 0
}
