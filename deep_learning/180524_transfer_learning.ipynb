{
 "cells": [
  {
   "cell_type": "markdown",
   "metadata": {},
   "source": [
    "# Transfer Learningを実装しよう\n",
    "\n",
    "自分で書いてみよう！  \n",
    "目標　transofer learningで高精度な犬猫を分類するモデルの構築\n",
    "下の記事を参考に\n",
    "\n",
    "* [keras公式ブログ](https://blog.keras.io/building-powerful-image-classification-models-using-very-little-data.html)\n",
    "* [keras公式ドキュメント](https://keras.io/applications)\n",
    "* [@aidiaryさんの記事](http://aidiary.hatenablog.com/entry/20170110/1484057655)\n",
    "\n",
    "---"
   ]
  },
  {
   "cell_type": "code",
   "execution_count": null,
   "metadata": {
    "collapsed": true
   },
   "outputs": [],
   "source": []
  }
 ],
 "metadata": {
  "anaconda-cloud": {},
  "kernelspec": {
   "display_name": "Python [conda env:python3.5]",
   "language": "python",
   "name": "conda-env-python3.5-py"
  },
  "language_info": {
   "codemirror_mode": {
    "name": "ipython",
    "version": 3
   },
   "file_extension": ".py",
   "mimetype": "text/x-python",
   "name": "python",
   "nbconvert_exporter": "python",
   "pygments_lexer": "ipython3",
   "version": "3.5.4"
  }
 },
 "nbformat": 4,
 "nbformat_minor": 0
}
