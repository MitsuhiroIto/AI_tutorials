{
 "cells": [
  {
   "cell_type": "markdown",
   "metadata": {},
   "source": [
    "# scikit-learn"
   ]
  },
  {
   "cell_type": "markdown",
   "metadata": {},
   "source": [
    "こちらの[記事](https://qiita.com/msrks/items/01c51a769f24cd649459)より  \n",
    "scikit learn を使って手書き数字認識をやってみよう"
   ]
  },
  {
   "cell_type": "markdown",
   "metadata": {},
   "source": [
    "---"
   ]
  },
  {
   "cell_type": "code",
   "execution_count": 1,
   "metadata": {
    "collapsed": true
   },
   "outputs": [],
   "source": [
    "%matplotlib inline\n",
    "import numpy as np\n",
    "import matplotlib.pyplot as plt\n",
    "from sklearn.datasets import load_digits\n",
    "from sklearn.model_selection import train_test_split"
   ]
  },
  {
   "cell_type": "code",
   "execution_count": 2,
   "metadata": {
    "collapsed": false
   },
   "outputs": [
    {
     "data": {
      "text/plain": [
       "(1797, 64)"
      ]
     },
     "execution_count": 2,
     "metadata": {},
     "output_type": "execute_result"
    }
   ],
   "source": [
    "digits = load_digits()\n",
    "digits.data.shape"
   ]
  },
  {
   "cell_type": "code",
   "execution_count": 3,
   "metadata": {
    "collapsed": false
   },
   "outputs": [
    {
     "data": {
      "image/png": "[encoded data removed]",
      "text/plain": [
       "<matplotlib.figure.Figure at 0x1138ea8d0>"
      ]
     },
     "metadata": {},
     "output_type": "display_data"
    }
   ],
   "source": [
    "fig, axes = plt.subplots(ncols=15, figsize=(12,12)) #15等分\n",
    "\n",
    "for i in range(15):\n",
    "    ax = axes[i]\n",
    "    ax.imshow(digits.images[i], cmap='gray')\n",
    "    ax.set_axis_off()"
   ]
  },
  {
   "cell_type": "markdown",
   "metadata": {},
   "source": [
    "こんな感じのデータ群　"
   ]
  },
  {
   "cell_type": "code",
   "execution_count": 4,
   "metadata": {
    "collapsed": true
   },
   "outputs": [],
   "source": [
    "X_train, X_test, y_train, y_test = train_test_split(digits.data, digits.target, test_size = 0.2) # Xは画像データ、Yはラベルデータ"
   ]
  },
  {
   "cell_type": "markdown",
   "metadata": {},
   "source": [
    "train用とtest用のデータに分ける (8:2)"
   ]
  },
  {
   "cell_type": "markdown",
   "metadata": {},
   "source": [
    "### 決定木"
   ]
  },
  {
   "cell_type": "code",
   "execution_count": 5,
   "metadata": {
    "collapsed": true
   },
   "outputs": [],
   "source": [
    "from sklearn.tree import DecisionTreeClassifier"
   ]
  },
  {
   "cell_type": "code",
   "execution_count": 6,
   "metadata": {
    "collapsed": true
   },
   "outputs": [],
   "source": [
    "clf = DecisionTreeClassifier() "
   ]
  },
  {
   "cell_type": "code",
   "execution_count": 7,
   "metadata": {
    "collapsed": false
   },
   "outputs": [
    {
     "data": {
      "text/plain": [
       "DecisionTreeClassifier(class_weight=None, criterion='gini', max_depth=None,\n",
       "            max_features=None, max_leaf_nodes=None,\n",
       "            min_impurity_decrease=0.0, min_impurity_split=None,\n",
       "            min_samples_leaf=1, min_samples_split=2,\n",
       "            min_weight_fraction_leaf=0.0, presort=False, random_state=None,\n",
       "            splitter='best')"
      ]
     },
     "execution_count": 7,
     "metadata": {},
     "output_type": "execute_result"
    }
   ],
   "source": [
    "clf.fit(X_train, y_train)"
   ]
  },
  {
   "cell_type": "code",
   "execution_count": 8,
   "metadata": {
    "collapsed": false
   },
   "outputs": [],
   "source": [
    "pred = clf.predict(X_test) # その値を使ってpredict"
   ]
  },
  {
   "cell_type": "code",
   "execution_count": 9,
   "metadata": {
    "collapsed": false
   },
   "outputs": [
    {
     "data": {
      "text/plain": [
       "array([9, 3, 0, 7, 3, 9, 8, 8, 8, 9, 6, 5, 9, 6, 5, 1, 8, 8, 2, 9, 8, 6, 1,\n",
       "       1, 8, 1, 1, 3, 9, 8, 6, 1, 3, 8, 3, 5, 5, 9, 3, 8, 1, 2, 6, 6, 4, 3,\n",
       "       8, 4, 5, 8, 8, 4, 0, 5, 7, 8, 0, 2, 8, 9, 1, 2, 4, 1, 1, 8, 9, 2, 7,\n",
       "       1, 4, 5, 1, 0, 5, 1, 3, 7, 4, 6, 1, 7, 2, 3, 9, 9, 7, 0, 6, 9, 7, 0,\n",
       "       5, 4, 4, 2, 5, 2, 5, 6, 8, 0, 2, 9, 6, 2, 0, 9, 9, 5, 1, 5, 3, 4, 7,\n",
       "       5, 1, 0, 2, 2, 6, 8, 2, 6, 8, 2, 0, 4, 0, 5, 1, 7, 4, 4, 8, 9, 6, 7,\n",
       "       7, 2, 5, 6, 8, 4, 1, 4, 4, 8, 5, 4, 8, 0, 3, 8, 5, 5, 5, 6, 4, 3, 3,\n",
       "       1, 3, 0, 8, 8, 3, 1, 9, 7, 2, 0, 9, 8, 8, 4, 5, 1, 0, 8, 4, 7, 4, 5,\n",
       "       0, 8, 4, 5, 6, 9, 7, 9, 9, 5, 8, 4, 6, 3, 6, 7, 0, 6, 3, 6, 0, 2, 1,\n",
       "       5, 5, 1, 2, 6, 0, 1, 7, 3, 4, 9, 9, 6, 0, 6, 8, 7, 7, 5, 9, 4, 1, 1,\n",
       "       2, 1, 9, 0, 9, 3, 2, 1, 4, 6, 3, 5, 2, 5, 6, 9, 5, 2, 4, 7, 0, 3, 0,\n",
       "       0, 6, 8, 4, 6, 0, 2, 6, 8, 6, 2, 2, 7, 6, 8, 2, 7, 5, 8, 8, 3, 7, 5,\n",
       "       4, 5, 6, 8, 2, 9, 9, 7, 4, 7, 4, 4, 1, 4, 5, 5, 1, 3, 2, 5, 7, 1, 7,\n",
       "       9, 9, 3, 8, 8, 8, 3, 1, 0, 9, 3, 7, 7, 8, 6, 5, 6, 6, 1, 6, 1, 8, 2,\n",
       "       4, 9, 3, 1, 7, 4, 1, 4, 8, 3, 2, 4, 5, 9, 7, 5, 0, 3, 8, 5, 4, 0, 7,\n",
       "       6, 9, 0, 4, 9, 3, 6, 6, 9, 4, 1, 0, 7, 4, 6])"
      ]
     },
     "execution_count": 9,
     "metadata": {},
     "output_type": "execute_result"
    }
   ],
   "source": [
    "pred # 予測結果"
   ]
  },
  {
   "cell_type": "code",
   "execution_count": 10,
   "metadata": {
    "collapsed": false
   },
   "outputs": [
    {
     "data": {
      "text/plain": [
       "array([9, 3, 0, 7, 3, 9, 8, 8, 8, 9, 6, 3, 8, 6, 5, 1, 8, 8, 2, 9, 8, 6, 8,\n",
       "       1, 8, 1, 1, 3, 9, 4, 0, 1, 8, 8, 3, 3, 5, 9, 3, 1, 1, 2, 6, 6, 1, 3,\n",
       "       7, 6, 5, 8, 7, 7, 0, 5, 7, 8, 0, 2, 8, 9, 8, 2, 4, 1, 1, 8, 9, 2, 7,\n",
       "       1, 4, 5, 1, 0, 5, 1, 3, 7, 4, 6, 1, 7, 2, 3, 9, 9, 7, 0, 1, 9, 7, 0,\n",
       "       5, 4, 4, 2, 5, 7, 5, 6, 8, 0, 2, 9, 4, 2, 0, 9, 9, 5, 1, 5, 3, 4, 9,\n",
       "       5, 1, 0, 2, 2, 6, 8, 2, 6, 8, 2, 0, 4, 0, 5, 1, 7, 4, 4, 8, 9, 6, 7,\n",
       "       7, 2, 5, 6, 8, 4, 1, 4, 4, 8, 5, 4, 8, 0, 3, 8, 5, 5, 5, 6, 7, 3, 3,\n",
       "       1, 3, 0, 6, 8, 3, 1, 9, 4, 2, 0, 5, 8, 8, 4, 5, 9, 0, 1, 7, 7, 4, 5,\n",
       "       0, 5, 4, 5, 6, 9, 7, 9, 9, 5, 7, 4, 6, 3, 6, 7, 0, 6, 3, 6, 0, 2, 1,\n",
       "       5, 5, 1, 7, 6, 0, 1, 7, 3, 4, 1, 9, 4, 0, 6, 8, 7, 7, 5, 9, 4, 1, 1,\n",
       "       2, 1, 5, 0, 9, 9, 2, 1, 4, 6, 3, 5, 3, 0, 6, 9, 5, 2, 4, 7, 0, 3, 0,\n",
       "       0, 6, 8, 4, 6, 0, 2, 6, 8, 6, 2, 2, 7, 6, 8, 2, 7, 5, 0, 8, 3, 7, 5,\n",
       "       4, 5, 6, 8, 2, 5, 3, 8, 4, 7, 4, 4, 1, 4, 5, 5, 1, 3, 8, 5, 7, 1, 7,\n",
       "       9, 9, 3, 8, 8, 3, 3, 1, 0, 9, 3, 7, 8, 4, 6, 5, 6, 6, 1, 6, 1, 8, 2,\n",
       "       7, 3, 3, 1, 9, 4, 1, 4, 8, 3, 2, 4, 5, 9, 7, 5, 0, 3, 2, 5, 4, 0, 7,\n",
       "       6, 1, 0, 4, 3, 3, 6, 6, 9, 4, 1, 0, 7, 4, 4])"
      ]
     },
     "execution_count": 10,
     "metadata": {},
     "output_type": "execute_result"
    }
   ],
   "source": [
    "y_test # 正解"
   ]
  },
  {
   "cell_type": "code",
   "execution_count": 11,
   "metadata": {
    "collapsed": false
   },
   "outputs": [
    {
     "data": {
      "text/plain": [
       "0.86388888888888893"
      ]
     },
     "execution_count": 11,
     "metadata": {},
     "output_type": "execute_result"
    }
   ],
   "source": [
    "from sklearn.metrics import accuracy_score\n",
    "accuracy_score(y_test, pred) "
   ]
  },
  {
   "cell_type": "markdown",
   "metadata": {},
   "source": [
    "正解率は~86 %"
   ]
  },
  {
   "cell_type": "code",
   "execution_count": 12,
   "metadata": {
    "collapsed": false
   },
   "outputs": [
    {
     "data": {
      "text/plain": [
       "1.0"
      ]
     },
     "execution_count": 12,
     "metadata": {},
     "output_type": "execute_result"
    }
   ],
   "source": [
    "accuracy_score(y_test, y_test)"
   ]
  },
  {
   "cell_type": "markdown",
   "metadata": {},
   "source": [
    "これは当たり前"
   ]
  },
  {
   "cell_type": "markdown",
   "metadata": {},
   "source": [
    "## Support Vector Machines¶"
   ]
  },
  {
   "cell_type": "code",
   "execution_count": 13,
   "metadata": {
    "collapsed": false
   },
   "outputs": [
    {
     "data": {
      "text/plain": [
       "SVC(C=1.0, cache_size=200, class_weight=None, coef0=0.0,\n",
       "  decision_function_shape='ovr', degree=3, gamma='auto', kernel='rbf',\n",
       "  max_iter=-1, probability=False, random_state=None, shrinking=True,\n",
       "  tol=0.001, verbose=False)"
      ]
     },
     "execution_count": 13,
     "metadata": {},
     "output_type": "execute_result"
    }
   ],
   "source": [
    "from sklearn.svm import SVC\n",
    "clf_svc = SVC()\n",
    "clf_svc.fit(X_train, y_train)"
   ]
  },
  {
   "cell_type": "code",
   "execution_count": 14,
   "metadata": {
    "collapsed": false
   },
   "outputs": [
    {
     "data": {
      "text/plain": [
       "0.51944444444444449"
      ]
     },
     "execution_count": 14,
     "metadata": {},
     "output_type": "execute_result"
    }
   ],
   "source": [
    "pred_svc = clf_svc.predict(X_test)\n",
    "accuracy_score(y_test, pred_svc)"
   ]
  },
  {
   "cell_type": "markdown",
   "metadata": {},
   "source": [
    "正解率が低い...  \n",
    "この[記事](http://may46onez.hatenablog.com/entry/2016/02/19/152532)にあるようにチューニングが必要なよう  \n",
    "こちらの[記事](https://qiita.com/yhyhyhjp/items/ebda34f46369b7d3ac8e)を参考にパラメータを指定する"
   ]
  },
  {
   "cell_type": "code",
   "execution_count": 15,
   "metadata": {
    "collapsed": false
   },
   "outputs": [
    {
     "data": {
      "text/plain": [
       "SVC(C=100.0, cache_size=200, class_weight=None, coef0=0.0,\n",
       "  decision_function_shape='ovr', degree=3, gamma=0.001, kernel='rbf',\n",
       "  max_iter=-1, probability=False, random_state=None, shrinking=True,\n",
       "  tol=0.001, verbose=False)"
      ]
     },
     "execution_count": 15,
     "metadata": {},
     "output_type": "execute_result"
    }
   ],
   "source": [
    "clf_svc_again = SVC(gamma=0.001, C=100.)\n",
    "clf_svc_again.fit(X_train, y_train)"
   ]
  },
  {
   "cell_type": "code",
   "execution_count": 16,
   "metadata": {
    "collapsed": false
   },
   "outputs": [
    {
     "data": {
      "text/plain": [
       "0.99444444444444446"
      ]
     },
     "execution_count": 16,
     "metadata": {},
     "output_type": "execute_result"
    }
   ],
   "source": [
    "pred_svc_again = clf_svc_again.predict(X_test)\n",
    "accuracy_score(y_test, pred_svc_again)"
   ]
  },
  {
   "cell_type": "markdown",
   "metadata": {},
   "source": [
    "正解率UP!!"
   ]
  },
  {
   "cell_type": "markdown",
   "metadata": {},
   "source": [
    "## confusion matrix"
   ]
  },
  {
   "cell_type": "code",
   "execution_count": 17,
   "metadata": {
    "collapsed": false
   },
   "outputs": [
    {
     "data": {
      "image/png": "[encoded data removed]",
      "text/plain": [
       "<matplotlib.figure.Figure at 0x11cfa6470>"
      ]
     },
     "metadata": {},
     "output_type": "display_data"
    }
   ],
   "source": [
    "from sklearn.metrics import confusion_matrix\n",
    "import pandas as pd\n",
    "import seaborn as sns\n",
    "\n",
    "conf_mat = confusion_matrix(y_test, pred)\n",
    "index = list(\"0123456789\")\n",
    "columns = list(\"0123456789\")\n",
    "df = pd.DataFrame(conf_mat, index=index, columns=columns)\n",
    "fig = plt.figure(figsize = (7,7))\n",
    "sns.heatmap(df, annot=True, square=True, fmt='.0f', cmap=\"Blues\")\n",
    "plt.title('hand_written digit classification')\n",
    "plt.xlabel('ground_truth')\n",
    "plt.ylabel('prediction')\n",
    "fig.savefig(\"images/conf_mat.png\")"
   ]
  },
  {
   "cell_type": "markdown",
   "metadata": {},
   "source": [
    "## 結果のレポート"
   ]
  },
  {
   "cell_type": "code",
   "execution_count": 18,
   "metadata": {
    "collapsed": false
   },
   "outputs": [
    {
     "name": "stdout",
     "output_type": "stream",
     "text": [
      "             precision    recall  f1-score   support\n",
      "\n",
      "          0       1.00      0.91      0.95        33\n",
      "          1       0.92      0.85      0.88        40\n",
      "          2       0.87      0.96      0.91        27\n",
      "          3       0.93      0.80      0.86        35\n",
      "          4       0.85      0.85      0.85        40\n",
      "          5       0.93      0.90      0.91        41\n",
      "          6       0.87      0.94      0.91        36\n",
      "          7       0.84      0.75      0.79        36\n",
      "          8       0.73      0.82      0.78        40\n",
      "          9       0.76      0.88      0.81        32\n",
      "\n",
      "avg / total       0.87      0.86      0.86       360\n",
      "\n"
     ]
    }
   ],
   "source": [
    "from sklearn.metrics import classification_report\n",
    "pred = clf.predict(X_test)\n",
    "print(classification_report(y_test, pred))"
   ]
  },
  {
   "cell_type": "code",
   "execution_count": null,
   "metadata": {
    "collapsed": true
   },
   "outputs": [],
   "source": []
  }
 ],
 "metadata": {
  "anaconda-cloud": {},
  "kernelspec": {
   "display_name": "Python [conda env:python3.5]",
   "language": "python",
   "name": "conda-env-python3.5-py"
  },
  "language_info": {
   "codemirror_mode": {
    "name": "ipython",
    "version": 3
   },
   "file_extension": ".py",
   "mimetype": "text/x-python",
   "name": "python",
   "nbconvert_exporter": "python",
   "pygments_lexer": "ipython3",
   "version": "3.5.4"
  }
 },
 "nbformat": 4,
 "nbformat_minor": 0
}
