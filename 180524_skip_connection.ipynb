{
 "cells": [
  {
   "cell_type": "markdown",
   "metadata": {},
   "source": [
    "# skip connection"
   ]
  },
  {
   "cell_type": "markdown",
   "metadata": {},
   "source": [
    "kerasでのNNの作り方には2通りある  \n",
    "1.model=Sequentialとしmodel.addで順々に追加していく方法  \n",
    "　簡単だが今回のようなskip connectionとかはできない  \n",
    "2.model=Model としてModel(input = [x0], output = [xn])で作成  \n",
    "ちょっとめんどいが自由度が高い  \n",
    "並列構造とか複数のloss関数の組み合わせるとかができる  "
   ]
  },
  {
   "cell_type": "markdown",
   "metadata": {},
   "source": [
    "----"
   ]
  },
  {
   "cell_type": "code",
   "execution_count": 2,
   "metadata": {
    "collapsed": false
   },
   "outputs": [
    {
     "name": "stderr",
     "output_type": "stream",
     "text": [
      "Using TensorFlow backend.\n"
     ]
    }
   ],
   "source": [
    "from keras.optimizers import Adam\n",
    "from keras.models import Model\n",
    "from keras.layers.core import Dense, Dropout, Activation\n",
    "from keras.layers import Input, merge"
   ]
  },
  {
   "cell_type": "code",
   "execution_count": 3,
   "metadata": {
    "collapsed": true
   },
   "outputs": [],
   "source": [
    "lr = 0.0001 \n",
    "nb_dim = (512,) \n",
    "nb_cat = 4 "
   ]
  },
  {
   "cell_type": "code",
   "execution_count": 4,
   "metadata": {
    "collapsed": false
   },
   "outputs": [
    {
     "name": "stderr",
     "output_type": "stream",
     "text": [
      "/Users/mitsuhiro/.pyenv/versions/anaconda3-4.1.1/envs/python3.5/lib/python3.5/site-packages/ipykernel/__main__.py:5: UserWarning: The `merge` function is deprecated and will be removed after 08/2017. Use instead layers from `keras.layers.merge`, e.g. `add`, `concatenate`, etc.\n",
      "/Users/mitsuhiro/.pyenv/versions/anaconda3-4.1.1/envs/python3.5/lib/python3.5/site-packages/keras/legacy/layers.py:458: UserWarning: The `Merge` layer is deprecated and will be removed after 08/2017. Use instead layers from `keras.layers.merge`, e.g. `add`, `concatenate`, etc.\n",
      "  name=name)\n",
      "/Users/mitsuhiro/.pyenv/versions/anaconda3-4.1.1/envs/python3.5/lib/python3.5/site-packages/ipykernel/__main__.py:10: UserWarning: The `merge` function is deprecated and will be removed after 08/2017. Use instead layers from `keras.layers.merge`, e.g. `add`, `concatenate`, etc.\n",
      "/Users/mitsuhiro/.pyenv/versions/anaconda3-4.1.1/envs/python3.5/lib/python3.5/site-packages/ipykernel/__main__.py:15: UserWarning: The `merge` function is deprecated and will be removed after 08/2017. Use instead layers from `keras.layers.merge`, e.g. `add`, `concatenate`, etc.\n",
      "/Users/mitsuhiro/.pyenv/versions/anaconda3-4.1.1/envs/python3.5/lib/python3.5/site-packages/ipykernel/__main__.py:20: UserWarning: Update your `Model` call to the Keras 2 API: `Model(name=\"generator_upsampling\", outputs=[<tf.Tenso..., inputs=[<tf.Tenso...)`\n"
     ]
    }
   ],
   "source": [
    "x0 = Input(shape=nb_dim, name=\"input\")\n",
    "x1 = Dense(512)(x0) #512 ユニット数\n",
    "x1 = Activation(\"elu\")(x1)\n",
    "x1 = Dropout(0.5)(x1)\n",
    "x1 = merge([x0, x1], mode=\"sum\") #x0とx1をmergeすることで差分だけを学習することになる skip conncection\n",
    "\n",
    "x2 = Dense(512)(x1)\n",
    "x2 = Activation(\"elu\")(x2)\n",
    "x2 = Dropout(0.5)(x2)\n",
    "x2 = merge([x1, x2], mode=\"sum\")\n",
    "\n",
    "x3 = Dense(512)(x2)\n",
    "x3 = Activation(\"elu\")(x3)\n",
    "x3 = Dropout(0.5)(x3)\n",
    "x3 = merge([x2, x3], mode=\"sum\")\n",
    "\n",
    "x4 = Dense(nb_cat+1)(x3)\n",
    "x4 = Activation('softmax')(x4)\n",
    "\n",
    "model = Model(input=[x0], output=[x4], name=\"generator_upsampling\")\n",
    "model.compile(loss='categorical_crossentropy', optimizer=Adam(lr=lr), metrics=['accuracy'])"
   ]
  },
  {
   "cell_type": "code",
   "execution_count": null,
   "metadata": {
    "collapsed": true
   },
   "outputs": [],
   "source": []
  }
 ],
 "metadata": {
  "anaconda-cloud": {},
  "kernelspec": {
   "display_name": "Python [conda env:python3.5]",
   "language": "python",
   "name": "conda-env-python3.5-py"
  },
  "language_info": {
   "codemirror_mode": {
    "name": "ipython",
    "version": 3
   },
   "file_extension": ".py",
   "mimetype": "text/x-python",
   "name": "python",
   "nbconvert_exporter": "python",
   "pygments_lexer": "ipython3",
   "version": "3.5.4"
  }
 },
 "nbformat": 4,
 "nbformat_minor": 0
}
